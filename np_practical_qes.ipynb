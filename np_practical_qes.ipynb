{
 "cells": [
  {
   "cell_type": "code",
   "execution_count": 45,
   "metadata": {},
   "outputs": [
    {
     "name": "stdout",
     "output_type": "stream",
     "text": [
      "Before matrix: \n",
      " [[ 3 55  4]\n",
      " [99 34 31]\n",
      " [72 50 48]]\n",
      "After exchanging rows and columns :\n",
      " [[ 3 99 72]\n",
      " [55 34 50]\n",
      " [ 4 31 48]]\n"
     ]
    }
   ],
   "source": [
    "# 1. Create a 3x3 NumPy array with random integers between 1 and 100. Then, interchange its rows and columns.\n",
    "\n",
    "# solution creating the 3 x 3 matrix with number number\n",
    "import numpy as np\n",
    "\n",
    "random_num = np.random.randint(1,101, size= (3,3))\n",
    "\n",
    "print('Before matrix: \\n',random_num)\n",
    "transpose = random_num.transpose()\n",
    "\n",
    "print(\"After exchanging rows and columns :\\n\",transpose)"
   ]
  },
  {
   "cell_type": "code",
   "execution_count": 48,
   "metadata": {},
   "outputs": [
    {
     "name": "stdout",
     "output_type": "stream",
     "text": [
      "1d array: \n",
      " [ 1  2  3  4  5  6  7  8  9 10]\n",
      "2d array size 2x5: \n",
      " [[ 1  2  3  4  5]\n",
      " [ 6  7  8  9 10]]\n",
      "2d array 5x2: \n",
      " [[ 1  2]\n",
      " [ 3  4]\n",
      " [ 5  6]\n",
      " [ 7  8]\n",
      " [ 9 10]]\n"
     ]
    }
   ],
   "source": [
    "# 2. Generate a 1D NumPy array with 10 elements. Reshape it into a 2x5 array, then into a 5x2 array.\n",
    "\n",
    "\n",
    "array_1d = np.arange(1,11)\n",
    "print(\"1d array: \\n\",array_1d)\n",
    "size_2x5 = array_1d.reshape(2,5)\n",
    "print(\"2d array size 2x5: \\n\",size_2x5)\n",
    "\n",
    "size_5x2 = array_1d.reshape(5,2)\n",
    "print(\"2d array 5x2: \\n\",size_5x2)\n"
   ]
  },
  {
   "cell_type": "code",
   "execution_count": 79,
   "metadata": {},
   "outputs": [
    {
     "data": {
      "text/plain": [
       "(array([[0.19045271, 0.17434036, 0.14895921, 0.65584623],\n",
       "        [0.40245093, 0.39232708, 0.47384367, 0.95542708],\n",
       "        [0.29095918, 0.99793065, 0.3831748 , 0.61496764],\n",
       "        [0.45057208, 0.33340232, 0.87145473, 0.07723476]]),\n",
       " array([[0.        , 0.        , 0.        , 0.        , 0.        ,\n",
       "         0.        ],\n",
       "        [0.        , 0.19045271, 0.17434036, 0.14895921, 0.65584623,\n",
       "         0.        ],\n",
       "        [0.        , 0.40245093, 0.39232708, 0.47384367, 0.95542708,\n",
       "         0.        ],\n",
       "        [0.        , 0.29095918, 0.99793065, 0.3831748 , 0.61496764,\n",
       "         0.        ],\n",
       "        [0.        , 0.45057208, 0.33340232, 0.87145473, 0.07723476,\n",
       "         0.        ],\n",
       "        [0.        , 0.        , 0.        , 0.        , 0.        ,\n",
       "         0.        ]]))"
      ]
     },
     "execution_count": 79,
     "metadata": {},
     "output_type": "execute_result"
    }
   ],
   "source": [
    "# 3. Create a 4x4 NumPy array with random float values. Add a border of zeros around it, resulting in a 6x6 array.\n",
    "\n",
    "\n",
    "array_4x4 = np.random.rand(4, 4)\n",
    "\n",
    "\n",
    "array_with_border = np.pad(array_4x4, pad_width=1, mode='constant', constant_values=0)\n",
    "\n",
    "array_4x4, array_with_border\n"
   ]
  },
  {
   "cell_type": "code",
   "execution_count": 80,
   "metadata": {},
   "outputs": [
    {
     "data": {
      "text/plain": [
       "array([10, 15, 20, 25, 30, 35, 40, 45, 50, 55, 60])"
      ]
     },
     "execution_count": 80,
     "metadata": {},
     "output_type": "execute_result"
    }
   ],
   "source": [
    "# 4. Using NumPy, create an array of integers from 10 to 60 with a step of 5.\n",
    "\n",
    "\n",
    "array_step = np.arange(10, 65, 5)\n",
    "array_step\n"
   ]
  },
  {
   "cell_type": "code",
   "execution_count": 81,
   "metadata": {},
   "outputs": [
    {
     "data": {
      "text/plain": [
       "(array(['PYTHON', 'NUMPY', 'PANDAS'], dtype='<U6'),\n",
       " array(['python', 'numpy', 'pandas'], dtype='<U6'),\n",
       " array(['Python', 'Numpy', 'Pandas'], dtype='<U6'),\n",
       " array(['Python', 'Numpy', 'Pandas'], dtype='<U6'))"
      ]
     },
     "execution_count": 81,
     "metadata": {},
     "output_type": "execute_result"
    }
   ],
   "source": [
    "# 5. Create a NumPy array of strings ['python', 'numpy', 'pandas']. Apply different case transformations\n",
    "# (uppercase, lowercase, title case, etc.) to each element.\n",
    "\n",
    "# Create a NumPy array of strings\n",
    "array_strings = np.array(['python', 'numpy', 'pandas'])\n",
    "\n",
    "# Apply different case transformations\n",
    "upper_case = np.char.upper(array_strings)\n",
    "lower_case = np.char.lower(array_strings)\n",
    "title_case = np.char.title(array_strings)\n",
    "capitalize_case = np.char.capitalize(array_strings)\n",
    "\n",
    "upper_case, lower_case, title_case, capitalize_case\n"
   ]
  },
  {
   "cell_type": "code",
   "execution_count": null,
   "metadata": {},
   "outputs": [],
   "source": [
    "# 6. Generate a NumPy array of words. Insert a space between each character of every word in the array.\n",
    "\n",
    "# Create a NumPy array of words\n",
    "words_array = np.array(['hello', 'world', 'numpy', 'array'])\n",
    "\n",
    "# Insert a space between each character of every word in the array\n",
    "spaced_words_array = np.char.join(' ', words_array)\n",
    "\n",
    "spaced_words_array\n"
   ]
  },
  {
   "cell_type": "code",
   "execution_count": 96,
   "metadata": {},
   "outputs": [
    {
     "name": "stdout",
     "output_type": "stream",
     "text": [
      "multiplication: \n",
      " [[ 10  24  39  56]\n",
      " [ 80 102 126 152]] \n",
      "\n",
      "Addition: \n",
      " [[11 14 16 18]\n",
      " [21 23 25 27]] \n",
      "\n",
      "Subtraction: \n",
      " [[ -9 -10 -10 -10]\n",
      " [-11 -11 -11 -11]] \n",
      "\n",
      "Diviion: \n",
      " [[0.1        0.16666667 0.23076923 0.28571429]\n",
      " [0.3125     0.35294118 0.38888889 0.42105263]] \n",
      "\n"
     ]
    }
   ],
   "source": [
    "# 7. Create two 2D NumPy arrays and perform element-wise addition, subtraction, multiplication, and division.\n",
    "array_1 = np.array([[1,2,3,4],[5,6,7,8]])\n",
    "array_2 = np.array([[10,12,13,14],[16,17,18,19]])\n",
    "\n",
    "multi = np.multiply(array_1,array_2)\n",
    "addition = np.add(array_1,array_2)\n",
    "subtraction = np.subtract(array_1,array_2)\n",
    "division = np.divide(array_1,array_2)\n",
    "\n",
    "print(\"multiplication: \\n\",multi,\"\\n\")\n",
    "print(\"Addition: \\n\",addition,\"\\n\")\n",
    "print('Subtraction: \\n',subtraction,\"\\n\")\n",
    "print('Diviion: \\n',division,\"\\n\")"
   ]
  },
  {
   "cell_type": "code",
   "execution_count": 97,
   "metadata": {},
   "outputs": [
    {
     "name": "stdout",
     "output_type": "stream",
     "text": [
      "Identity Matrix:\n",
      " [[1. 0. 0. 0. 0.]\n",
      " [0. 1. 0. 0. 0.]\n",
      " [0. 0. 1. 0. 0.]\n",
      " [0. 0. 0. 1. 0.]\n",
      " [0. 0. 0. 0. 1.]]\n",
      "Diagonal Elements: [1. 1. 1. 1. 1.]\n"
     ]
    }
   ],
   "source": [
    "\n",
    "# 8. Use NumPy to create a 5x5 identity matrix, then extract its diagonal elements\n",
    "\n",
    "identity_matrix = np.eye(5)\n",
    "\n",
    "diagonal_elements = np.diag(identity_matrix)\n",
    "\n",
    "print(\"Identity Matrix:\\n\", identity_matrix)\n",
    "print(\"Diagonal Elements:\", diagonal_elements)\n"
   ]
  },
  {
   "cell_type": "code",
   "execution_count": 98,
   "metadata": {},
   "outputs": [
    {
     "name": "stdout",
     "output_type": "stream",
     "text": [
      "Random Integers: [347 574 186 932 438 241  61 222 908 248 743 151 631  19 460 784 109 905\n",
      " 737 639 313  14 839 741   9 863 984 711 637  95 319 712 913 890 477 268\n",
      "  19 170 389 766  75 297  25 123 248 143  12 556  21  96 883 928 766 729\n",
      "  18  76 526  28  51 758 758 924 260 656 120 230 504 464 112 311 886 778\n",
      " 931 173 303 110 472 967 817 607 810 187 989 789 892 390 544 381 192 219\n",
      " 708 295 995 559 344 740 955 966 771 400]\n",
      "Prime Numbers: [np.int32(347), np.int32(241), np.int32(61), np.int32(743), np.int32(151), np.int32(631), np.int32(19), np.int32(109), np.int32(313), np.int32(839), np.int32(863), np.int32(19), np.int32(389), np.int32(883), np.int32(311), np.int32(173), np.int32(967), np.int32(607)]\n"
     ]
    }
   ],
   "source": [
    "# 9. Generate a NumPy array of 100 random integers between 0 and 1000. Find and display all prime numbers in\n",
    "# this array.\n",
    "\n",
    "\n",
    "\n",
    "def is_prime(n):\n",
    "    if n <= 1:\n",
    "        return False\n",
    "    for i in range(2, int(n ** 0.5) + 1):\n",
    "        if n % i == 0:\n",
    "            return False\n",
    "    return True\n",
    "\n",
    "\n",
    "random_integers = np.random.randint(0, 1001, size=100)\n",
    "\n",
    "# Find all prime numbers in the array\n",
    "prime_numbers = [num for num in random_integers if is_prime(num)]\n",
    "\n",
    "print(\"Random Integers:\", random_integers)\n",
    "print(\"Prime Numbers:\", prime_numbers)\n"
   ]
  },
  {
   "cell_type": "code",
   "execution_count": 99,
   "metadata": {},
   "outputs": [
    {
     "name": "stdout",
     "output_type": "stream",
     "text": [
      "Daily Temperatures: [19 23 33 20 30 24 15 34 18 28 17 29 18 34 29 25 27 22 17 25 29 24 15 16\n",
      " 27 20 20 17 15 15]\n",
      "Weekly Averages: [23.42857143 25.42857143 24.85714286 19.85714286 15.        ]\n"
     ]
    }
   ],
   "source": [
    "# 10. Create a NumPy array representing daily temperatures for a month. Calculate and display the weekly\n",
    "# averages.abs\n",
    "import numpy as np\n",
    "\n",
    "\n",
    "daily_temperatures = np.random.randint(15, 35, size=30)  \n",
    "\n",
    "\n",
    "weeks = daily_temperatures[:28].reshape(4, 7)\n",
    "extra_days = daily_temperatures[28:]\n",
    "\n",
    "\n",
    "weekly_averages = np.mean(weeks, axis=1)\n",
    "\n",
    "\n",
    "if extra_days.size > 0:\n",
    "    extra_days_average = np.mean(extra_days)\n",
    "    weekly_averages = np.append(weekly_averages, extra_days_average)\n",
    "\n",
    "print(\"Daily Temperatures:\", daily_temperatures)\n",
    "print(\"Weekly Averages:\", weekly_averages)\n"
   ]
  },
  {
   "cell_type": "code",
   "execution_count": null,
   "metadata": {},
   "outputs": [],
   "source": []
  }
 ],
 "metadata": {
  "kernelspec": {
   "display_name": "Python 3",
   "language": "python",
   "name": "python3"
  },
  "language_info": {
   "codemirror_mode": {
    "name": "ipython",
    "version": 3
   },
   "file_extension": ".py",
   "mimetype": "text/x-python",
   "name": "python",
   "nbconvert_exporter": "python",
   "pygments_lexer": "ipython3",
   "version": "3.12.6"
  }
 },
 "nbformat": 4,
 "nbformat_minor": 2
}
